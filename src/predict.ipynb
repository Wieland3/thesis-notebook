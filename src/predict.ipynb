{
 "cells": [
  {
   "cell_type": "code",
   "execution_count": 1,
   "id": "5f095d01d5dac5ec",
   "metadata": {
    "collapsed": false,
    "ExecuteTime": {
     "end_time": "2024-01-21T10:31:52.899547Z",
     "start_time": "2024-01-21T10:31:49.850567Z"
    }
   },
   "outputs": [],
   "source": [
    "# Imports\n",
    "import soundfile as sf\n",
    "import pya\n",
    "import numpy as np\n",
    "from src import inference\n",
    "from audio_utils import select_preview_snippet"
   ]
  },
  {
   "cell_type": "code",
   "execution_count": 2,
   "outputs": [
    {
     "data": {
      "text/plain": "AServer: sr: 44100, blocksize: 512,\n         Stream Active: True, Device: MacBook Air-Lautsprecher, Index: 1"
     },
     "execution_count": 2,
     "metadata": {},
     "output_type": "execute_result"
    }
   ],
   "source": [
    "# Pya Server \n",
    "auto_backend = pya.determine_backend()\n",
    "s = pya.Aserver(backend=auto_backend)\n",
    "pya.Aserver.default = s \n",
    "s.boot()"
   ],
   "metadata": {
    "collapsed": false,
    "ExecuteTime": {
     "end_time": "2024-01-21T10:31:53.547895Z",
     "start_time": "2024-01-21T10:31:52.901030Z"
    }
   },
   "id": "843358b10e6afb82"
  },
  {
   "cell_type": "code",
   "execution_count": 3,
   "outputs": [],
   "source": [
    "# Model to Use, \"musdb\" for MUSDB-trained, \"exploited\" for exploited and \"unexploited\" for unexploited\n",
    "model = \"exploited\"\n",
    "\n",
    "# Path to Vocal, Piano and Guitar Soundfiles (needs to be in sync)\n",
    "path_to_vocal_recording = \"Voice.wav\"\n",
    "path_to_piano_recording = \"Piano.wav\"\n",
    "path_to_guitar_recording = \"Guitar.wav\"\n",
    "\n",
    "# Mixing parameter (calculates the mix for the clean sources: clean_mix = alpha * piano + (1-alpha)*guitar\n",
    "alpha = 0.5\n",
    "\n",
    "# sample_rate \n",
    "sample_rate = 44100\n",
    "\n",
    "# Post Processing \n",
    "use_noise_gate = False \n",
    "threshold = -40\n",
    "\n",
    "# Preview: Select start and end seconds to listen to preview: Set Both to None to make full prediction\n",
    "start = 30 \n",
    "end = 40"
   ],
   "metadata": {
    "collapsed": false,
    "ExecuteTime": {
     "end_time": "2024-01-21T10:31:53.550489Z",
     "start_time": "2024-01-21T10:31:53.545845Z"
    }
   },
   "id": "initial_id"
  },
  {
   "cell_type": "code",
   "execution_count": 4,
   "id": "1ce93de369f65ba2",
   "metadata": {
    "collapsed": false,
    "ExecuteTime": {
     "end_time": "2024-01-21T10:31:54.218314Z",
     "start_time": "2024-01-21T10:31:53.552761Z"
    }
   },
   "outputs": [],
   "source": [
    "# Read Audio Sources and convert to pya signal\n",
    "vocal = pya.Asig(sf.read(path_to_vocal_recording)[0], sample_rate)\n",
    "piano = pya.Asig(sf.read(path_to_piano_recording)[0], sample_rate).mono()\n",
    "guitar = pya.Asig(sf.read(path_to_guitar_recording)[0], sample_rate)\n",
    "\n",
    "# Select Previews of Songs\n",
    "vocal = select_preview_snippet(vocal, start, end)\n",
    "piano = select_preview_snippet(piano, start, end)\n",
    "guitar = select_preview_snippet(guitar, start, end)\n",
    "\n",
    "# Create mixture out of clean sources\n",
    "clean_sources = np.add(piano * alpha, guitar * (1 - alpha))"
   ]
  },
  {
   "cell_type": "code",
   "execution_count": 5,
   "id": "f69ed22e33d73564",
   "metadata": {
    "collapsed": false,
    "ExecuteTime": {
     "end_time": "2024-01-21T10:31:58.606997Z",
     "start_time": "2024-01-21T10:31:54.219860Z"
    }
   },
   "outputs": [
    {
     "name": "stderr",
     "output_type": "stream",
     "text": [
      "2024-01-21 11:31:54.237661: I metal_plugin/src/device/metal_device.cc:1154] Metal device set to: Apple M1\n",
      "2024-01-21 11:31:54.237681: I metal_plugin/src/device/metal_device.cc:296] systemMemory: 16.00 GB\n",
      "2024-01-21 11:31:54.237684: I metal_plugin/src/device/metal_device.cc:313] maxCacheSize: 5.33 GB\n",
      "2024-01-21 11:31:54.237709: I tensorflow/core/common_runtime/pluggable_device/pluggable_device_factory.cc:306] Could not identify NUMA node of platform GPU ID 0, defaulting to 0. Your kernel may not have been built with NUMA support.\n",
      "2024-01-21 11:31:54.237721: I tensorflow/core/common_runtime/pluggable_device/pluggable_device_factory.cc:272] Created TensorFlow device (/job:localhost/replica:0/task:0/device:GPU:0 with 0 MB memory) -> physical PluggableDevice (device: 0, name: METAL, pci bus id: <undefined>)\n",
      "/Users/wieland/PycharmProjects/thesis-notebook/venv/lib/python3.10/site-packages/keras/src/layers/core/lambda_layer.py:327: UserWarning: wave_u_net is not loaded, but a Lambda layer uses it. It may cause errors.\n",
      "  function = cls._parse_function_from_config(\n",
      "WARNING:absl:At this time, the v2.11+ optimizer `tf.keras.optimizers.RestoredOptimizer` runs slowly on M1/M2 Macs, please use the legacy Keras optimizer instead, located at `tf.keras.optimizers.legacy.RestoredOptimizer`.\n",
      "WARNING:absl:At this time, the v2.11+ optimizer `tf.keras.optimizers.Adam` runs slowly on M1/M2 Macs, please use the legacy Keras optimizer instead, located at `tf.keras.optimizers.legacy.Adam`.\n",
      "2024-01-21 11:31:56.189055: I tensorflow/core/grappler/optimizers/custom_graph_optimizer_registry.cc:117] Plugin optimizer for device_type GPU is enabled.\n"
     ]
    },
    {
     "name": "stdout",
     "output_type": "stream",
     "text": [
      "1/1 [==============================] - 1s 604ms/step\n",
      "1/1 [==============================] - 0s 40ms/step\n",
      "1/1 [==============================] - 0s 33ms/step\n",
      "1/1 [==============================] - 0s 29ms/step\n",
      "1/1 [==============================] - 0s 33ms/step\n",
      "1/1 [==============================] - 0s 34ms/step\n",
      "1/1 [==============================] - 0s 33ms/step\n",
      "1/1 [==============================] - 0s 36ms/step\n",
      "1/1 [==============================] - 0s 35ms/step\n",
      "1/1 [==============================] - 0s 32ms/step\n",
      "1/1 [==============================] - 0s 33ms/step\n",
      "1/1 [==============================] - 0s 34ms/step\n",
      "1/1 [==============================] - 0s 36ms/step\n",
      "1/1 [==============================] - 0s 33ms/step\n",
      "1/1 [==============================] - 0s 34ms/step\n",
      "1/1 [==============================] - 0s 31ms/step\n",
      "1/1 [==============================] - 0s 33ms/step\n",
      "1/1 [==============================] - 0s 32ms/step\n",
      "1/1 [==============================] - 0s 33ms/step\n",
      "1/1 [==============================] - 0s 34ms/step\n",
      "1/1 [==============================] - 0s 37ms/step\n",
      "1/1 [==============================] - 0s 38ms/step\n",
      "1/1 [==============================] - 0s 63ms/step\n",
      "1/1 [==============================] - 0s 31ms/step\n",
      "1/1 [==============================] - 0s 32ms/step\n",
      "1/1 [==============================] - 0s 36ms/step\n",
      "1/1 [==============================] - 0s 55ms/step\n",
      "1/1 [==============================] - 0s 36ms/step\n",
      "1/1 [==============================] - 0s 39ms/step\n",
      "1/1 [==============================] - 0s 33ms/step\n",
      "1/1 [==============================] - 0s 36ms/step\n",
      "1/1 [==============================] - 0s 36ms/step\n",
      "1/1 [==============================] - 0s 35ms/step\n",
      "1/1 [==============================] - 0s 33ms/step\n",
      "1/1 [==============================] - 0s 33ms/step\n",
      "1/1 [==============================] - 0s 32ms/step\n",
      "Saved Prediction in Predictions Folder\n"
     ]
    }
   ],
   "source": [
    "# Make Predictions with given parameters and save into \"/predictions\" folder. \n",
    "prediction = inference.run_and_save_prediction(model_name=model, vocals=vocal, clean_sources=clean_sources, use_noise_gate=use_noise_gate, threshold=threshold, song_name=\"song_name\")"
   ]
  },
  {
   "cell_type": "code",
   "execution_count": 6,
   "outputs": [
    {
     "data": {
      "text/plain": "Asig(''): 1 x 441000 @ 44100Hz = 10.000s cn=['0']"
     },
     "execution_count": 6,
     "metadata": {},
     "output_type": "execute_result"
    }
   ],
   "source": [
    "prediction.play()"
   ],
   "metadata": {
    "collapsed": false,
    "ExecuteTime": {
     "end_time": "2024-01-21T10:31:58.609597Z",
     "start_time": "2024-01-21T10:31:58.607565Z"
    }
   },
   "id": "5f4ecc8e97cefaad"
  },
  {
   "cell_type": "code",
   "execution_count": null,
   "id": "3b66f1f7fe71ecc6",
   "metadata": {
    "collapsed": false
   },
   "outputs": [],
   "source": []
  }
 ],
 "metadata": {
  "kernelspec": {
   "display_name": "Python 3 (ipykernel)",
   "language": "python",
   "name": "python3"
  },
  "language_info": {
   "codemirror_mode": {
    "name": "ipython",
    "version": 3
   },
   "file_extension": ".py",
   "mimetype": "text/x-python",
   "name": "python",
   "nbconvert_exporter": "python",
   "pygments_lexer": "ipython3",
   "version": "3.10.6"
  }
 },
 "nbformat": 4,
 "nbformat_minor": 5
}
